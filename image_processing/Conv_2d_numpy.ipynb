{
 "cells": [
  {
   "cell_type": "code",
   "execution_count": 59,
   "metadata": {},
   "outputs": [],
   "source": [
    "import numpy as np \n",
    "arr = np.random.randint(1,100,(9,9))\n",
    "k = np.random.randint(-1,9,(3,3))"
   ]
  },
  {
   "cell_type": "code",
   "execution_count": 1,
   "metadata": {},
   "outputs": [
    {
     "ename": "SyntaxError",
     "evalue": "invalid syntax (2095692643.py, line 13)",
     "output_type": "error",
     "traceback": [
      "\u001b[0;36m  Cell \u001b[0;32mIn[1], line 13\u001b[0;36m\u001b[0m\n\u001b[0;31m    for i in range(0,img_h-k_h+1.stride):\u001b[0m\n\u001b[0m                                 ^\u001b[0m\n\u001b[0;31mSyntaxError\u001b[0m\u001b[0;31m:\u001b[0m invalid syntax\n"
     ]
    }
   ],
   "source": [
    "def conv_2d(img,kernel,stride=1,padding=0):\n",
    "    if padding:\n",
    "        padding_len = len(img)+2*padding\n",
    "        padding_matrix = np.zeros((padding_len,padding_len))\n",
    "        for i in range(len(img)):\n",
    "            for j in range(len(img[0])):\n",
    "                padding_matrix[i+padding,j+padding] = img[i,j]\n",
    "        img = padding_matrix\n",
    "    img_h,img_w = len(img),len(img[0])\n",
    "    k_h,k_w = len(k), len(k[0])\n",
    "    output_h,output_w = (img_h-k_h)//stride+1, (img_w-k_w)//stride+1\n",
    "    output = np.zeros((output_h,output_w))\n",
    "    for i in range(0,img_h-k_h+1.stride):\n",
    "        for j in range(0,img_w-k_w+1,stride):\n",
    "            sub_matrix = img[i:i+k_h,j:j+k_w]\n",
    "            output[i//stride,j//stride] = np.sum(sub_matrix*kernel)\n",
    "    return output"
   ]
  },
  {
   "cell_type": "code",
   "execution_count": 106,
   "metadata": {},
   "outputs": [
    {
     "data": {
      "text/plain": [
       "array([[1110., 1091., 1289., 1322., 1624., 1106., 1582.],\n",
       "       [1534., 1759., 1657., 1647., 2087., 1953., 1932.],\n",
       "       [1449., 1907., 1386., 1214., 1680., 2257., 1758.],\n",
       "       [1305., 1090., 1532., 1367., 1095., 1347., 1773.],\n",
       "       [1343., 1491., 1562., 1169., 1357., 1641., 1856.],\n",
       "       [ 544., 1356., 1390., 1804.,  975., 1404., 1328.],\n",
       "       [ 780., 1098.,  991., 1263., 1010., 1130.,  887.]])"
      ]
     },
     "execution_count": 106,
     "metadata": {},
     "output_type": "execute_result"
    }
   ],
   "source": [
    "out = conv_2d(arr,k,1)\n",
    "out"
   ]
  },
  {
   "cell_type": "markdown",
   "metadata": {},
   "source": [
    "rough work"
   ]
  },
  {
   "cell_type": "code",
   "execution_count": 105,
   "metadata": {},
   "outputs": [
    {
     "data": {
      "text/plain": [
       "array([[   0.,    0.,    0.,    0.,    0.,    0.,    0.,    0.],\n",
       "       [   0.,    0.,    0.,    0.,    0.,    0.,    0.,    0.],\n",
       "       [   0.,    0., 1759., 1647., 1953., 1932.,    0.,    0.],\n",
       "       [   0.,    0., 1090., 1367., 1347., 1773.,    0.,    0.],\n",
       "       [   0.,    0., 1356., 1804., 1404., 1328.,    0.,    0.],\n",
       "       [   0.,    0., 1098., 1263., 1130.,  887.,    0.,    0.],\n",
       "       [   0.,    0.,    0.,    0.,    0.,    0.,    0.,    0.],\n",
       "       [   0.,    0.,    0.,    0.,    0.,    0.,    0.,    0.]])"
      ]
     },
     "execution_count": 105,
     "metadata": {},
     "output_type": "execute_result"
    }
   ],
   "source": [
    "padding = 2\n",
    "out_row_len = len(out[0])\n",
    "row_padding = np.zeros((len(out)+2*padding,out_row_len+2*padding))\n",
    "for i in range(len(out)):\n",
    "    for j in range(len(out[0])):\n",
    "        row_padding[i+padding,j+padding] = out[i,j]\n",
    "row_padding"
   ]
  },
  {
   "cell_type": "code",
   "execution_count": null,
   "metadata": {},
   "outputs": [],
   "source": []
  }
 ],
 "metadata": {
  "kernelspec": {
   "display_name": "re-llm",
   "language": "python",
   "name": "python3"
  },
  "language_info": {
   "codemirror_mode": {
    "name": "ipython",
    "version": 3
   },
   "file_extension": ".py",
   "mimetype": "text/x-python",
   "name": "python",
   "nbconvert_exporter": "python",
   "pygments_lexer": "ipython3",
   "version": "3.9.0"
  }
 },
 "nbformat": 4,
 "nbformat_minor": 2
}
