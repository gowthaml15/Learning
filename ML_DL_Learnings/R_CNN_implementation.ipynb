{
  "nbformat": 4,
  "nbformat_minor": 0,
  "metadata": {
    "colab": {
      "provenance": [],
      "authorship_tag": "ABX9TyNBAyVUh0FKbQiJN8N3fHtD",
      "include_colab_link": true
    },
    "kernelspec": {
      "name": "python3",
      "display_name": "Python 3"
    },
    "language_info": {
      "name": "python"
    }
  },
  "cells": [
    {
      "cell_type": "markdown",
      "metadata": {
        "id": "view-in-github",
        "colab_type": "text"
      },
      "source": [
        "<a href=\"https://colab.research.google.com/github/gowthaml15/Learning/blob/main/R_CNN_implementation.ipynb\" target=\"_parent\"><img src=\"https://colab.research.google.com/assets/colab-badge.svg\" alt=\"Open In Colab\"/></a>"
      ]
    },
    {
      "cell_type": "markdown",
      "source": [
        "## Introduction\n",
        "\n",
        "Object detection is a complex problem in computer vision that involves localizing and classifying multiple objects from a given image. It is one of the most practically important and widely researched problem in Computer Vision.\n",
        "\n",
        "R-CNN is one of the initial multi-stage object detectors.\n",
        "\n",
        "In paper, The R-CNN using the Pascal VOC 2012 dataset, including SVM category classifier training and bounding box regression.\n",
        "\n",
        "**R-CNN Oveview: **\n",
        "\n",
        "object detection in R-CNN is composed of 2-stages:\n",
        "- Generating region proposals\n",
        "- classifying them\n",
        "\n",
        "Steps involving the implemenation of R-CNN:\n",
        "- Object proposal Generation\n",
        "- Feature Extraction\n",
        "- Region Classification\n",
        "- Bounding Box Regression\n",
        "- Non-Maximum Suppression\n",
        "- Training, Evaluation and Inference Pipline\n"
      ],
      "metadata": {
        "id": "QY5S4r5_wqwN"
      }
    },
    {
      "cell_type": "code",
      "execution_count": null,
      "metadata": {
        "id": "HPIUzMQ4wnet"
      },
      "outputs": [],
      "source": []
    }
  ]
}