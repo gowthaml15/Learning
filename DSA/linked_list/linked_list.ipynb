{
 "cells": [
  {
   "cell_type": "code",
   "execution_count": 1,
   "metadata": {},
   "outputs": [],
   "source": [
    "class Node:\n",
    "    def __init__(self,data):\n",
    "        self.data = data\n",
    "        self.next = None"
   ]
  },
  {
   "cell_type": "code",
   "execution_count": 48,
   "metadata": {},
   "outputs": [],
   "source": [
    "class LinkedList:\n",
    "    def __init__(self):\n",
    "        self.head = None\n",
    "    \n",
    "    def insert_at_begining(self,data):\n",
    "        new_node = Node(data)\n",
    "        new_node.next = None\n",
    "        self.head = new_node\n",
    "    \n",
    "    def insert_at_end(self,data):\n",
    "        new_node = Node(data)\n",
    "        if not self.head:\n",
    "            self.head = new_node\n",
    "            return\n",
    "        temp = self.head\n",
    "        while temp.next:\n",
    "            temp = temp.next\n",
    "        temp.next = new_node\n",
    "            \n",
    "    def reverse(self):\n",
    "        p1 = self.head\n",
    "        p2 = None\n",
    "        while p1:\n",
    "            temp = p1.next\n",
    "            p1.next = p2\n",
    "            p2 = p1\n",
    "            p1 = temp\n",
    "        self.head = p2\n",
    "    def find_mid(self):\n",
    "        fast = self.head\n",
    "        slow = self.head\n",
    "        while fast and fast.next:\n",
    "            slow = slow.next\n",
    "            fast = fast.next.next\n",
    "        if slow:\n",
    "            print(slow.data)\n",
    "\n",
    "        \n",
    "    def printf(self):\n",
    "        node = self.head\n",
    "        while node:\n",
    "            print(node.data,end=\"->\")\n",
    "            node = node.next\n",
    "        print('None')\n"
   ]
  },
  {
   "cell_type": "code",
   "execution_count": 49,
   "metadata": {},
   "outputs": [
    {
     "name": "stdout",
     "output_type": "stream",
     "text": [
      "10->20->30->40->50->None\n",
      "50->40->30->20->10->None\n",
      "30\n"
     ]
    }
   ],
   "source": [
    "c = LinkedList()\n",
    "c.insert_at_begining(10)\n",
    "c.insert_at_end(20)\n",
    "c.insert_at_end(30)\n",
    "c.insert_at_end(40)\n",
    "c.insert_at_end(50)\n",
    "c.printf()\n",
    "c.reverse()\n",
    "c.printf()\n",
    "c.find_mid()"
   ]
  },
  {
   "cell_type": "code",
   "execution_count": null,
   "metadata": {},
   "outputs": [],
   "source": []
  }
 ],
 "metadata": {
  "kernelspec": {
   "display_name": "re-llm",
   "language": "python",
   "name": "python3"
  },
  "language_info": {
   "codemirror_mode": {
    "name": "ipython",
    "version": 3
   },
   "file_extension": ".py",
   "mimetype": "text/x-python",
   "name": "python",
   "nbconvert_exporter": "python",
   "pygments_lexer": "ipython3",
   "version": "3.9.0"
  }
 },
 "nbformat": 4,
 "nbformat_minor": 2
}
