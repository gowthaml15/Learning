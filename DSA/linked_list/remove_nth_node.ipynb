{
 "cells": [
  {
   "cell_type": "code",
   "execution_count": 1,
   "metadata": {},
   "outputs": [],
   "source": [
    "class Node:\n",
    "    def __init__(self,data):\n",
    "        self.data = data\n",
    "        self.next = None"
   ]
  },
  {
   "cell_type": "code",
   "execution_count": 84,
   "metadata": {},
   "outputs": [],
   "source": [
    "class LinkedList:\n",
    "    def __init__(self):\n",
    "        self.head = None\n",
    "        self.leng = 0\n",
    "    def insert_at_start(self,data):\n",
    "        self.head = Node(data)\n",
    "    def insert(self,data):\n",
    "        new_node = Node(data)\n",
    "        if not self.head:\n",
    "            self.head = new_node\n",
    "            new_node.next = None\n",
    "            return \n",
    "        temp = self.head\n",
    "        while temp.next:\n",
    "            temp = temp.next\n",
    "        temp.next = new_node\n",
    "    def length(self):\n",
    "        temp = self.head\n",
    "        while temp:\n",
    "            temp = temp.next\n",
    "            self.leng+=1\n",
    "        return self.leng\n",
    "    def delete_n(self,n):\n",
    "        temp = Node(0)\n",
    "        temp.next = self.head\n",
    "        fast = temp\n",
    "        slow = temp\n",
    "\n",
    "        for _ in range(n+1):\n",
    "            if fast:\n",
    "                fast = fast.next\n",
    "        \n",
    "        while fast:\n",
    "            slow = slow.next\n",
    "            fast = fast.next\n",
    "\n",
    "        slow.next = slow.next.next        \n",
    "        self.head = temp.next\n",
    "    def printf(self):\n",
    "        temp = self.head\n",
    "        while temp:\n",
    "            print(temp.data,end='->')\n",
    "            temp = temp.next\n",
    "        print(\"None\")          "
   ]
  },
  {
   "cell_type": "code",
   "execution_count": 90,
   "metadata": {},
   "outputs": [
    {
     "name": "stdout",
     "output_type": "stream",
     "text": [
      "10->20->None\n",
      "10->None\n"
     ]
    }
   ],
   "source": [
    "c = LinkedList()\n",
    "c.insert(10)\n",
    "c.insert(20)\n",
    "# c.insert(30)\n",
    "c.printf()\n",
    "c.length()\n",
    "c.delete_n(1)\n",
    "c.printf()"
   ]
  },
  {
   "cell_type": "code",
   "execution_count": null,
   "metadata": {},
   "outputs": [],
   "source": []
  }
 ],
 "metadata": {
  "kernelspec": {
   "display_name": "re-llm",
   "language": "python",
   "name": "python3"
  },
  "language_info": {
   "codemirror_mode": {
    "name": "ipython",
    "version": 3
   },
   "file_extension": ".py",
   "mimetype": "text/x-python",
   "name": "python",
   "nbconvert_exporter": "python",
   "pygments_lexer": "ipython3",
   "version": "3.9.0"
  }
 },
 "nbformat": 4,
 "nbformat_minor": 2
}
