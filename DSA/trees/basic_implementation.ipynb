{
 "cells": [
  {
   "cell_type": "code",
   "execution_count": 3,
   "metadata": {},
   "outputs": [],
   "source": [
    "class TreeNode:\n",
    "    def __init__(self,value):\n",
    "        self.value = value\n",
    "        self.left = None\n",
    "        self.right = None"
   ]
  },
  {
   "cell_type": "code",
   "execution_count": 51,
   "metadata": {},
   "outputs": [],
   "source": [
    "class BinaryTree:\n",
    "    def __init__(self,value):\n",
    "        self.root = TreeNode(value)\n",
    "    def inorder(self,node):\n",
    "        if node: \n",
    "            self.inorder(node.left)\n",
    "            print(node.value)\n",
    "            self.inorder(node.right)\n",
    "    def preorder(self,node):\n",
    "        if node:\n",
    "            print(node.value)\n",
    "            self.preorder(node.left)\n",
    "            self.preorder(node.right)\n",
    "    def postorder(self,node):\n",
    "        if node:\n",
    "            self.postorder(node.left)\n",
    "            self.postorder(node.right)\n",
    "            print(node.value)\n",
    "    def levelorder(self,node):\n",
    "        queue = []\n",
    "        queue.append(node)\n",
    "        while queue:\n",
    "            cur = queue.pop(0)\n",
    "            print(cur.value,end=\" \")\n",
    "            if cur.left:\n",
    "                queue.append(cur.left)\n",
    "            if cur.right:\n",
    "                queue.append(cur.right)"
   ]
  },
  {
   "cell_type": "code",
   "execution_count": 52,
   "metadata": {},
   "outputs": [],
   "source": [
    "tree = BinaryTree(1)\n",
    "tree.root.left = TreeNode(2)\n",
    "tree.root.right = TreeNode(3)\n",
    "tree.root.left.left = TreeNode(4)\n",
    "tree.root.left.right = TreeNode(5)\n",
    "tree.root.right.left = TreeNode(6)\n",
    "tree.root.right.right = TreeNode(7)"
   ]
  },
  {
   "cell_type": "code",
   "execution_count": 53,
   "metadata": {},
   "outputs": [
    {
     "name": "stdout",
     "output_type": "stream",
     "text": [
      "1 2 3 4 5 6 7 "
     ]
    }
   ],
   "source": [
    "tree.levelorder(tree.root)"
   ]
  },
  {
   "cell_type": "code",
   "execution_count": 20,
   "metadata": {},
   "outputs": [],
   "source": [
    "#automatic\n",
    "def insert_tree_node(arr):\n",
    "    root = TreeNode(arr[0])\n",
    "    queue = [root] \n",
    "    i = 1\n",
    "    while i<len(arr):\n",
    "        cur = queue.pop(0)\n",
    "        if i < len(arr):\n",
    "            cur.left = TreeNode(arr[i])\n",
    "            queue.append(cur.left)\n",
    "            i+=1\n",
    "        if i<len(arr):\n",
    "            cur.right = TreeNode(arr[i])\n",
    "            queue.append(cur.right)\n",
    "            i+=1\n",
    "    return root\n",
    "def level_order(node):\n",
    "    queue = [node]\n",
    "    while queue:\n",
    "        cur = queue.pop(0)\n",
    "        print(cur.value,end=' ')\n",
    "        if cur.left:\n",
    "            queue.append(cur.left)\n",
    "        if cur.right:\n",
    "            queue.append(cur.right)"
   ]
  },
  {
   "cell_type": "code",
   "execution_count": 21,
   "metadata": {},
   "outputs": [
    {
     "name": "stdout",
     "output_type": "stream",
     "text": [
      "1 2 3 4 5 6 7 "
     ]
    }
   ],
   "source": [
    "arr = [1, 2, 3, 4, 5, 6, 7]\n",
    "root = insert_tree_node(arr)\n",
    "level_order(root)"
   ]
  },
  {
   "cell_type": "code",
   "execution_count": null,
   "metadata": {},
   "outputs": [],
   "source": []
  }
 ],
 "metadata": {
  "kernelspec": {
   "display_name": "learning",
   "language": "python",
   "name": "python3"
  },
  "language_info": {
   "codemirror_mode": {
    "name": "ipython",
    "version": 3
   },
   "file_extension": ".py",
   "mimetype": "text/x-python",
   "name": "python",
   "nbconvert_exporter": "python",
   "pygments_lexer": "ipython3",
   "version": "3.10.0"
  }
 },
 "nbformat": 4,
 "nbformat_minor": 2
}
