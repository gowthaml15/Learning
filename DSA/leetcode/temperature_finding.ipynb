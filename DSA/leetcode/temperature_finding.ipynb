{
 "cells": [
  {
   "cell_type": "code",
   "execution_count": 70,
   "metadata": {},
   "outputs": [],
   "source": [
    "arr = [63,71,74,73,72,76,80]\n",
    "# arr = [63,71,74,76,83,72]"
   ]
  },
  {
   "cell_type": "code",
   "execution_count": 73,
   "metadata": {},
   "outputs": [
    {
     "name": "stdout",
     "output_type": "stream",
     "text": [
      "71 -> 63\n",
      "74 -> 71\n",
      "73 -> 74\n",
      "72 -> 74\n",
      "76 -> 74\n",
      "72 -> 73\n",
      "76 -> 73\n",
      "76 -> 72\n",
      "80 -> 76\n"
     ]
    }
   ],
   "source": [
    "temp = []\n",
    "temp_rec = 1\n",
    "for i in range(len(arr)):\n",
    "    temp_rec = 1\n",
    "    for j in range(i+1,len(arr)):\n",
    "        print(f'{arr[j]} -> {arr[i]}')\n",
    "        if j == len(arr)-1:\n",
    "            temp.append(0)\n",
    "        if arr[i] > arr[j]:\n",
    "            temp_rec += 1\n",
    "        else:\n",
    "            temp.append(temp_rec)\n",
    "            break\n",
    "# temp.append(0)"
   ]
  },
  {
   "cell_type": "code",
   "execution_count": 74,
   "metadata": {},
   "outputs": [
    {
     "name": "stdout",
     "output_type": "stream",
     "text": [
      "[1, 1, 3, 2, 1, 0, 1]\n",
      "[63, 71, 74, 73, 72, 76, 80]\n"
     ]
    }
   ],
   "source": [
    "print(temp)\n",
    "print(arr)"
   ]
  },
  {
   "cell_type": "code",
   "execution_count": 78,
   "metadata": {},
   "outputs": [],
   "source": [
    "arr = [63,71,74,73,72,76,80]"
   ]
  },
  {
   "cell_type": "code",
   "execution_count": 90,
   "metadata": {},
   "outputs": [
    {
     "name": "stdout",
     "output_type": "stream",
     "text": [
      "63\n",
      "71\n",
      "72\n",
      "73\n",
      "74\n",
      "76\n",
      "[1, 1, 3, 2, 1, 1, 0]\n"
     ]
    }
   ],
   "source": [
    "n = len(arr)\n",
    "temp = []\n",
    "answer = [0] * n\n",
    "for i in range(n):\n",
    "    while temp and arr[i]> arr[temp[-1]]:\n",
    "        print(arr[temp[-1]])\n",
    "        pre_idx = temp.pop()\n",
    "        answer[pre_idx] = i - pre_idx\n",
    "\n",
    "    temp.append(i)\n",
    "print(answer)"
   ]
  },
  {
   "cell_type": "code",
   "execution_count": 94,
   "metadata": {},
   "outputs": [
    {
     "name": "stdout",
     "output_type": "stream",
     "text": [
      "4\n",
      "3\n",
      "2\n"
     ]
    }
   ],
   "source": [
    "temp = [2,3,4]\n",
    "while temp and temp[-1]:\n",
    "    i = temp.pop()\n",
    "    print(i)"
   ]
  },
  {
   "cell_type": "code",
   "execution_count": null,
   "metadata": {},
   "outputs": [],
   "source": []
  },
  {
   "cell_type": "code",
   "execution_count": null,
   "metadata": {},
   "outputs": [],
   "source": []
  }
 ],
 "metadata": {
  "kernelspec": {
   "display_name": "Python 3",
   "language": "python",
   "name": "python3"
  },
  "language_info": {
   "codemirror_mode": {
    "name": "ipython",
    "version": 3
   },
   "file_extension": ".py",
   "mimetype": "text/x-python",
   "name": "python",
   "nbconvert_exporter": "python",
   "pygments_lexer": "ipython3",
   "version": "3.8.10"
  }
 },
 "nbformat": 4,
 "nbformat_minor": 2
}
