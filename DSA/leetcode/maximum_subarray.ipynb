{
 "cells": [
  {
   "cell_type": "code",
   "execution_count": 14,
   "metadata": {},
   "outputs": [],
   "source": [
    "from typing import List\n",
    "def maxSubArray(nums: List[int]) -> int:\n",
    "    n = len(nums)\n",
    "    ma = -100000000\n",
    "    for i in range(n):\n",
    "        for j in range(i,n):\n",
    "            m = sum(nums[i:j+1])\n",
    "            if ma<m:\n",
    "                ma = m\n",
    "    return ma"
   ]
  },
  {
   "cell_type": "code",
   "execution_count": 15,
   "metadata": {},
   "outputs": [
    {
     "data": {
      "text/plain": [
       "6"
      ]
     },
     "execution_count": 15,
     "metadata": {},
     "output_type": "execute_result"
    }
   ],
   "source": [
    "nums = [-2,1,-3,4,-1,2,1,-5,4]\n",
    "maxSubArray(nums)"
   ]
  },
  {
   "cell_type": "code",
   "execution_count": 2,
   "metadata": {},
   "outputs": [
    {
     "name": "stdout",
     "output_type": "stream",
     "text": [
      "[-2]\n",
      "[-2, 1]\n",
      "[-2, 1, -3]\n",
      "[-2, 1, -3, 4]\n",
      "[-2, 1, -3, 4, -1]\n",
      "[-2, 1, -3, 4, -1, 2]\n",
      "[-2, 1, -3, 4, -1, 2, 1]\n",
      "[-2, 1, -3, 4, -1, 2, 1, -5]\n",
      "[-2, 1, -3, 4, -1, 2, 1, -5, 4]\n",
      "[1]\n",
      "[1, -3]\n",
      "[1, -3, 4]\n",
      "[1, -3, 4, -1]\n",
      "[1, -3, 4, -1, 2]\n",
      "[1, -3, 4, -1, 2, 1]\n",
      "[1, -3, 4, -1, 2, 1, -5]\n",
      "[1, -3, 4, -1, 2, 1, -5, 4]\n",
      "[-3]\n",
      "[-3, 4]\n",
      "[-3, 4, -1]\n",
      "[-3, 4, -1, 2]\n",
      "[-3, 4, -1, 2, 1]\n",
      "[-3, 4, -1, 2, 1, -5]\n",
      "[-3, 4, -1, 2, 1, -5, 4]\n",
      "[4]\n",
      "[4, -1]\n",
      "[4, -1, 2]\n",
      "[4, -1, 2, 1]\n",
      "[4, -1, 2, 1, -5]\n",
      "[4, -1, 2, 1, -5, 4]\n",
      "[-1]\n",
      "[-1, 2]\n",
      "[-1, 2, 1]\n",
      "[-1, 2, 1, -5]\n",
      "[-1, 2, 1, -5, 4]\n",
      "[2]\n",
      "[2, 1]\n",
      "[2, 1, -5]\n",
      "[2, 1, -5, 4]\n",
      "[1]\n",
      "[1, -5]\n",
      "[1, -5, 4]\n",
      "[-5]\n",
      "[-5, 4]\n",
      "[4]\n"
     ]
    }
   ],
   "source": [
    "def print_subarrays(arr):\n",
    "    n = len(arr)\n",
    "    for i in range(n):\n",
    "        for j in range(i, n):\n",
    "            print(arr[i:j+1])\n",
    "\n",
    "# Example usage\n",
    "arr = [-2,1,-3,4,-1,2,1,-5,4]\n",
    "print_subarrays(arr)"
   ]
  },
  {
   "cell_type": "code",
   "execution_count": 8,
   "metadata": {},
   "outputs": [
    {
     "data": {
      "text/plain": [
       "[-2, 1, -3, 4, -1, 2, 1, -5, 4]"
      ]
     },
     "execution_count": 8,
     "metadata": {},
     "output_type": "execute_result"
    }
   ],
   "source": [
    "arr"
   ]
  },
  {
   "cell_type": "code",
   "execution_count": 9,
   "metadata": {},
   "outputs": [],
   "source": [
    "res = arr[0]\n",
    "total = 0 \n",
    "for n in arr:\n",
    "    if total<0:\n",
    "        total = 0 \n",
    "    total+=n\n",
    "    res = max(res,total)"
   ]
  },
  {
   "cell_type": "code",
   "execution_count": 10,
   "metadata": {},
   "outputs": [
    {
     "data": {
      "text/plain": [
       "6"
      ]
     },
     "execution_count": 10,
     "metadata": {},
     "output_type": "execute_result"
    }
   ],
   "source": [
    "res"
   ]
  },
  {
   "cell_type": "code",
   "execution_count": 17,
   "metadata": {},
   "outputs": [],
   "source": [
    "#maximum sub array \n",
    "nums = [2,3,-2,4]\n",
    "res = arr[0]\n",
    "prod = 1\n",
    "for i in nums:\n",
    "    if prod<=1:\n",
    "        prod=1\n",
    "    prod*=abs(i)\n",
    "    res = max(res,prod)"
   ]
  },
  {
   "cell_type": "code",
   "execution_count": 18,
   "metadata": {},
   "outputs": [
    {
     "data": {
      "text/plain": [
       "48"
      ]
     },
     "execution_count": 18,
     "metadata": {},
     "output_type": "execute_result"
    }
   ],
   "source": [
    "res"
   ]
  },
  {
   "cell_type": "code",
   "execution_count": null,
   "metadata": {},
   "outputs": [],
   "source": []
  }
 ],
 "metadata": {
  "kernelspec": {
   "display_name": "re-llm",
   "language": "python",
   "name": "python3"
  },
  "language_info": {
   "codemirror_mode": {
    "name": "ipython",
    "version": 3
   },
   "file_extension": ".py",
   "mimetype": "text/x-python",
   "name": "python",
   "nbconvert_exporter": "python",
   "pygments_lexer": "ipython3",
   "version": "3.9.0"
  }
 },
 "nbformat": 4,
 "nbformat_minor": 2
}
