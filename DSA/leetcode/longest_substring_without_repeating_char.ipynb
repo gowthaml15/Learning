{
 "cells": [
  {
   "cell_type": "code",
   "execution_count": 3,
   "metadata": {},
   "outputs": [],
   "source": [
    "s = \"abcabcbb\""
   ]
  },
  {
   "cell_type": "code",
   "execution_count": 39,
   "metadata": {},
   "outputs": [
    {
     "data": {
      "text/plain": [
       "3"
      ]
     },
     "execution_count": 39,
     "metadata": {},
     "output_type": "execute_result"
    }
   ],
   "source": [
    "def find_repeat_chars(s):\n",
    "    f_d = {}\n",
    "    for i in s:\n",
    "        if i in f_d:\n",
    "            f_d[i]+=1\n",
    "        else:\n",
    "            f_d[i] = 1\n",
    "    for i,j in f_d.items():\n",
    "        if j > 1:\n",
    "            val = False\n",
    "            break\n",
    "        else:\n",
    "            val =  True\n",
    "    return val\n",
    "\n",
    "ma = -10000000\n",
    "for i in range(len(s)):\n",
    "    for j in range(i,len(s)):\n",
    "        repeat = find_repeat_chars(s[i:j+1])\n",
    "        if repeat and ma<len(s[i:j+1]):\n",
    "            ma = len(s[i:j+1])\n",
    "ma\n"
   ]
  },
  {
   "cell_type": "code",
   "execution_count": 58,
   "metadata": {},
   "outputs": [],
   "source": [
    "start = 0\n",
    "m_l = 0\n",
    "ch_m = {}\n",
    "\n",
    "for e in range(len(s)):\n",
    "    if s[e] in ch_m and ch_m[s[e]] >=start:\n",
    "        start = ch_m[s[e]]+1\n",
    "    ch_m[s[e]] = e\n",
    "    m_l = max(m_l,e-start+1)"
   ]
  },
  {
   "cell_type": "code",
   "execution_count": 61,
   "metadata": {},
   "outputs": [
    {
     "data": {
      "text/plain": [
       "3"
      ]
     },
     "execution_count": 61,
     "metadata": {},
     "output_type": "execute_result"
    }
   ],
   "source": [
    "m_l"
   ]
  },
  {
   "cell_type": "code",
   "execution_count": 60,
   "metadata": {},
   "outputs": [
    {
     "data": {
      "text/plain": [
       "'a'"
      ]
     },
     "execution_count": 60,
     "metadata": {},
     "output_type": "execute_result"
    }
   ],
   "source": [
    "s[0]"
   ]
  },
  {
   "cell_type": "code",
   "execution_count": null,
   "metadata": {},
   "outputs": [],
   "source": []
  }
 ],
 "metadata": {
  "kernelspec": {
   "display_name": "re-llm",
   "language": "python",
   "name": "python3"
  },
  "language_info": {
   "codemirror_mode": {
    "name": "ipython",
    "version": 3
   },
   "file_extension": ".py",
   "mimetype": "text/x-python",
   "name": "python",
   "nbconvert_exporter": "python",
   "pygments_lexer": "ipython3",
   "version": "3.9.0"
  }
 },
 "nbformat": 4,
 "nbformat_minor": 2
}
