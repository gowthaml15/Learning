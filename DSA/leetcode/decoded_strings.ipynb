{
 "cells": [
  {
   "cell_type": "code",
   "execution_count": 8,
   "metadata": {},
   "outputs": [],
   "source": [
    "# input = '3[a2[bc]]'\n",
    "input = '3[a]3[b]'"
   ]
  },
  {
   "cell_type": "code",
   "execution_count": 9,
   "metadata": {},
   "outputs": [
    {
     "name": "stdout",
     "output_type": "stream",
     "text": [
      "3 \n",
      "3 aaa\n"
     ]
    },
    {
     "data": {
      "text/plain": [
       "'aaabbb'"
      ]
     },
     "execution_count": 9,
     "metadata": {},
     "output_type": "execute_result"
    }
   ],
   "source": [
    "stack = []\n",
    "cur_string, number = '', 0 \n",
    "\n",
    "for char in input:\n",
    "    if char.isdigit():\n",
    "        number = int(char)\n",
    "    elif char == '[':\n",
    "        stack.append((number,cur_string))\n",
    "        cur_string, number = '', 0\n",
    "    elif char == ']':\n",
    "        mul, last_str = stack.pop()\n",
    "        print(mul, last_str)\n",
    "        cur_string =last_str + (mul*cur_string)\n",
    "    else:\n",
    "        cur_string += char\n",
    "\n",
    "cur_string"
   ]
  },
  {
   "cell_type": "code",
   "execution_count": null,
   "metadata": {},
   "outputs": [],
   "source": []
  }
 ],
 "metadata": {
  "kernelspec": {
   "display_name": "learning",
   "language": "python",
   "name": "python3"
  },
  "language_info": {
   "codemirror_mode": {
    "name": "ipython",
    "version": 3
   },
   "file_extension": ".py",
   "mimetype": "text/x-python",
   "name": "python",
   "nbconvert_exporter": "python",
   "pygments_lexer": "ipython3",
   "version": "3.10.0"
  }
 },
 "nbformat": 4,
 "nbformat_minor": 2
}
