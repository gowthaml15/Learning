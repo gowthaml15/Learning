{
  "nbformat": 4,
  "nbformat_minor": 0,
  "metadata": {
    "colab": {
      "provenance": [],
      "authorship_tag": "ABX9TyP2yes8jdk9/xW2ehuZ1eQs",
      "include_colab_link": true
    },
    "kernelspec": {
      "name": "python3",
      "display_name": "Python 3"
    },
    "language_info": {
      "name": "python"
    }
  },
  "cells": [
    {
      "cell_type": "markdown",
      "metadata": {
        "id": "view-in-github",
        "colab_type": "text"
      },
      "source": [
        "<a href=\"https://colab.research.google.com/github/gowthaml15/Learning/blob/main/Triplet_Loss.ipynb\" target=\"_parent\"><img src=\"https://colab.research.google.com/assets/colab-badge.svg\" alt=\"Open In Colab\"/></a>"
      ]
    },
    {
      "cell_type": "code",
      "execution_count": 8,
      "metadata": {
        "id": "DX9aA-MYn2Oh"
      },
      "outputs": [],
      "source": [
        "import torch\n",
        "from torch import nn\n",
        "import torch.nn.functional as F"
      ]
    },
    {
      "cell_type": "code",
      "source": [
        "pdist = nn.PairwiseDistance(p=2)\n",
        "input1 = torch.randn(100, 128)\n",
        "input2 = torch.randn(100, 128)\n",
        "output = pdist(input1, input2)"
      ],
      "metadata": {
        "id": "dUWa9O0UqyMZ"
      },
      "execution_count": null,
      "outputs": []
    },
    {
      "cell_type": "code",
      "source": [
        "output"
      ],
      "metadata": {
        "colab": {
          "base_uri": "https://localhost:8080/"
        },
        "id": "RzV8SwETq1kD",
        "outputId": "dc2214e3-0232-41e3-f295-9a93ba3a6293"
      },
      "execution_count": null,
      "outputs": [
        {
          "output_type": "execute_result",
          "data": {
            "text/plain": [
              "tensor([17.3323, 15.6691, 15.7665, 16.6394, 15.4873, 15.3834, 15.7573, 17.4986,\n",
              "        15.4624, 16.3572, 16.4340, 15.6324, 16.5126, 15.6187, 12.8707, 16.7481,\n",
              "        17.0456, 15.4513, 15.9631, 15.0103, 16.6516, 14.2997, 16.8457, 15.5320,\n",
              "        16.3211, 14.9352, 17.6647, 16.9399, 15.7586, 16.7824, 15.5782, 14.4312,\n",
              "        14.1581, 17.3274, 17.4204, 16.0853, 16.9420, 15.6615, 14.6908, 15.9903,\n",
              "        16.4051, 15.1560, 16.4875, 15.6910, 14.6182, 15.7444, 16.1439, 17.0072,\n",
              "        16.0244, 16.5874, 15.9083, 15.4612, 16.8883, 15.3677, 15.8096, 17.1334,\n",
              "        16.7567, 14.4544, 16.5956, 15.9056, 15.3474, 15.6356, 16.7039, 17.2537,\n",
              "        16.5107, 16.7115, 17.4712, 15.0165, 15.8246, 14.5444, 16.1469, 15.5116,\n",
              "        16.7149, 17.4880, 16.0867, 18.3917, 16.8112, 14.9615, 15.0611, 16.4847,\n",
              "        15.1432, 17.4346, 16.0929, 17.3187, 15.9862, 14.9087, 14.4704, 16.7650,\n",
              "        14.9468, 16.3022, 14.8939, 16.4689, 16.3056, 16.3486, 15.1357, 14.4670,\n",
              "        16.7556, 15.8636, 17.2989, 16.5728])"
            ]
          },
          "metadata": {},
          "execution_count": 7
        }
      ]
    },
    {
      "cell_type": "code",
      "source": [
        "def triplet_loss(anchor, positive, negative, margin = 1.0):\n",
        " distance_positive = F.pairwise_distance(anchor,positive,p=2)\n",
        " distance_negative = F.pairwise_distance(anchor,negative,p=2)\n",
        " loss_values = torch.clamp(distance_positive-distance_negative+margin, min=0.0)\n",
        " loss = torch.mean(loss_values)\n",
        " return loss"
      ],
      "metadata": {
        "id": "X_5fjAAoq218"
      },
      "execution_count": 22,
      "outputs": []
    },
    {
      "cell_type": "code",
      "source": [
        "input1 = torch.randn(100, 128)\n",
        "input2 = torch.randn(100, 128)\n",
        "anchor = torch.randn(100,128)\n",
        "triplet_loss(anchor,input1,input2)"
      ],
      "metadata": {
        "colab": {
          "base_uri": "https://localhost:8080/"
        },
        "id": "ghhtyBBxsvWm",
        "outputId": "21aef155-676a-46b4-9308-59431bcd5aea"
      },
      "execution_count": 23,
      "outputs": [
        {
          "output_type": "execute_result",
          "data": {
            "text/plain": [
              "tensor(0.9435)"
            ]
          },
          "metadata": {},
          "execution_count": 23
        }
      ]
    },
    {
      "cell_type": "code",
      "source": [
        "import numpy as np"
      ],
      "metadata": {
        "id": "dPAwSf703gPt"
      },
      "execution_count": 24,
      "outputs": []
    },
    {
      "cell_type": "code",
      "source": [
        "def triplet_loss_np(anchor, positive, negative, margin = 1.0):\n",
        " distance_positive = np.linalg.norm(anchor-positive,ord=2)\n",
        " distance_negative = np.linalg.norm(anchor-negative,ord=2)\n",
        " loss_values = np.maximum((distance_positive-distance_negative)+margin, 0.0)\n",
        " loss = np.mean(loss_values)\n",
        " return loss"
      ],
      "metadata": {
        "id": "pIQnH53-4t1N"
      },
      "execution_count": 29,
      "outputs": []
    },
    {
      "cell_type": "code",
      "source": [
        "input1 = np.random.randn(100,128)\n",
        "input2 = np.random.randn(100,128)\n",
        "anchor = np.random.randn(100,128)\n",
        "triplet_loss_np(anchor,input1,input2)"
      ],
      "metadata": {
        "colab": {
          "base_uri": "https://localhost:8080/"
        },
        "id": "USrDcgnF5bAR",
        "outputId": "24098548-53a8-448a-811a-de3f90cae048"
      },
      "execution_count": 30,
      "outputs": [
        {
          "output_type": "execute_result",
          "data": {
            "text/plain": [
              "0.882331923007424"
            ]
          },
          "metadata": {},
          "execution_count": 30
        }
      ]
    },
    {
      "cell_type": "code",
      "source": [],
      "metadata": {
        "id": "7AeTUn945wB0"
      },
      "execution_count": null,
      "outputs": []
    },
    {
      "cell_type": "code",
      "source": [],
      "metadata": {
        "id": "kNmYneUf5DrS"
      },
      "execution_count": null,
      "outputs": []
    }
  ]
}