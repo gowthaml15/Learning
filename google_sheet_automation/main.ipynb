{
 "cells": [
  {
   "cell_type": "code",
   "execution_count": 18,
   "metadata": {},
   "outputs": [],
   "source": [
    "import pygsheets\n",
    "\n",
    "acc_name = \"sheet-testing@quantum-shard-449009-i7.iam.gserviceaccount.com\""
   ]
  },
  {
   "cell_type": "code",
   "execution_count": 19,
   "metadata": {},
   "outputs": [],
   "source": [
    "gc = pygsheets.authorize(service_account_file='./client_secret.json')\n",
    "\n",
    "# # Now you can interact with Google Sheets\n",
    "# sheet = gc.open('Your Google Sheet Name')"
   ]
  },
  {
   "cell_type": "code",
   "execution_count": 20,
   "metadata": {},
   "outputs": [],
   "source": [
    "sheet_name = 'testing_automation'"
   ]
  },
  {
   "cell_type": "code",
   "execution_count": 35,
   "metadata": {},
   "outputs": [
    {
     "name": "stdout",
     "output_type": "stream",
     "text": [
      "Already present\n"
     ]
    }
   ],
   "source": [
    "sh = gc.open(sheet_name)\n",
    "try:\n",
    "    print(\"Already present\")\n",
    "    spreadsheet = gc.open(sheet_name)\n",
    "except pygsheets.SpreadsheetNotFound:\n",
    "    print(\"---\")\n",
    "    spreadsheet = gc.create(sheet_name)"
   ]
  },
  {
   "cell_type": "code",
   "execution_count": 36,
   "metadata": {},
   "outputs": [
    {
     "name": "stdout",
     "output_type": "stream",
     "text": [
      "Worksheet 'test' already exists.\n"
     ]
    }
   ],
   "source": [
    "# Check for a specific worksheet (sheet) name and create it if not present\n",
    "sheet_name = \"test\"\n",
    "try:\n",
    "    worksheet = spreadsheet.worksheet_by_title(sheet_name)\n",
    "    print(f\"Worksheet '{sheet_name}' already exists.\")\n",
    "except pygsheets.WorksheetNotFound:\n",
    "    worksheet = spreadsheet.add_worksheet(sheet_name)\n",
    "    print(f\"Worksheet '{sheet_name}' created.\")"
   ]
  },
  {
   "cell_type": "code",
   "execution_count": 25,
   "metadata": {},
   "outputs": [
    {
     "name": "stdout",
     "output_type": "stream",
     "text": [
      "done\n"
     ]
    }
   ],
   "source": [
    "wks.update_value('A1','42')\n",
    "print('done')"
   ]
  },
  {
   "cell_type": "code",
   "execution_count": 37,
   "metadata": {},
   "outputs": [
    {
     "data": {
      "text/html": [
       "<div>\n",
       "<style scoped>\n",
       "    .dataframe tbody tr th:only-of-type {\n",
       "        vertical-align: middle;\n",
       "    }\n",
       "\n",
       "    .dataframe tbody tr th {\n",
       "        vertical-align: top;\n",
       "    }\n",
       "\n",
       "    .dataframe thead th {\n",
       "        text-align: right;\n",
       "    }\n",
       "</style>\n",
       "<table border=\"1\" class=\"dataframe\">\n",
       "  <thead>\n",
       "    <tr style=\"text-align: right;\">\n",
       "      <th></th>\n",
       "      <th>user_id</th>\n",
       "      <th>name</th>\n",
       "      <th>age</th>\n",
       "      <th>email</th>\n",
       "      <th>city</th>\n",
       "    </tr>\n",
       "  </thead>\n",
       "  <tbody>\n",
       "    <tr>\n",
       "      <th>0</th>\n",
       "      <td>1</td>\n",
       "      <td>Alice</td>\n",
       "      <td>25</td>\n",
       "      <td>alice@example.com</td>\n",
       "      <td>New York</td>\n",
       "    </tr>\n",
       "    <tr>\n",
       "      <th>1</th>\n",
       "      <td>2</td>\n",
       "      <td>Bob</td>\n",
       "      <td>30</td>\n",
       "      <td>bob@example.com</td>\n",
       "      <td>Los Angeles</td>\n",
       "    </tr>\n",
       "    <tr>\n",
       "      <th>2</th>\n",
       "      <td>3</td>\n",
       "      <td>Charlie</td>\n",
       "      <td>35</td>\n",
       "      <td>charlie@example.com</td>\n",
       "      <td>Chicago</td>\n",
       "    </tr>\n",
       "    <tr>\n",
       "      <th>3</th>\n",
       "      <td>4</td>\n",
       "      <td>Diana</td>\n",
       "      <td>28</td>\n",
       "      <td>diana@example.com</td>\n",
       "      <td>San Francisco</td>\n",
       "    </tr>\n",
       "  </tbody>\n",
       "</table>\n",
       "</div>"
      ],
      "text/plain": [
       "   user_id     name  age                email           city\n",
       "0        1    Alice   25    alice@example.com       New York\n",
       "1        2      Bob   30      bob@example.com    Los Angeles\n",
       "2        3  Charlie   35  charlie@example.com        Chicago\n",
       "3        4    Diana   28    diana@example.com  San Francisco"
      ]
     },
     "execution_count": 37,
     "metadata": {},
     "output_type": "execute_result"
    }
   ],
   "source": [
    "import pandas as pd \n",
    "\n",
    "df = wks.get_as_df()\n",
    "df"
   ]
  },
  {
   "cell_type": "markdown",
   "metadata": {},
   "source": [
    "## Creation of DB"
   ]
  },
  {
   "cell_type": "code",
   "execution_count": 5,
   "metadata": {},
   "outputs": [],
   "source": [
    "import sqlite3\n",
    "\n",
    "# Connect to SQLite database (creates a new file if it doesn't exist)\n",
    "conn = sqlite3.connect(\"user_info.db\")\n",
    "\n",
    "# Create a cursor object to execute SQL commands\n",
    "cursor = conn.cursor()\n",
    "\n",
    "# Create a table for user information\n",
    "cursor.execute(\"\"\"\n",
    "CREATE TABLE IF NOT EXISTS users (\n",
    "    user_id INTEGER PRIMARY KEY,\n",
    "    name TEXT NOT NULL,\n",
    "    age INTEGER NOT NULL,\n",
    "    email TEXT NOT NULL,\n",
    "    city TEXT NOT NULL\n",
    ")\n",
    "\"\"\")\n",
    "\n",
    "# Insert sample user data\n",
    "cursor.executemany(\"\"\"\n",
    "INSERT INTO users (name, age, email, city)\n",
    "VALUES (?, ?, ?, ?)\n",
    "\"\"\", [\n",
    "    # (\"Alice\", 25, \"alice@example.com\", \"New York\"),\n",
    "    # (\"Bob\", 30, \"bob@example.com\", \"Los Angeles\"),\n",
    "    # (\"Charlie\", 35, \"charlie@example.com\", \"Chicago\"),\n",
    "    # (\"Diana\", 28, \"diana@example.com\", \"San Francisco\"),\n",
    "    (\"Gowtham\",25,\"gowtham@example.com\",\"Coimbatore\"),\n",
    "    (\"Sowmya\",25,\"sowmya@example.com\",\"Pollachi\"),\n",
    "\n",
    "])\n",
    "\n",
    "# Commit the changes and close the connection\n",
    "conn.commit()"
   ]
  },
  {
   "cell_type": "code",
   "execution_count": 6,
   "metadata": {},
   "outputs": [
    {
     "name": "stdout",
     "output_type": "stream",
     "text": [
      "   user_id     name  age                email           city\n",
      "0        1    Alice   25    alice@example.com       New York\n",
      "1        2      Bob   30      bob@example.com    Los Angeles\n",
      "2        3  Charlie   35  charlie@example.com        Chicago\n",
      "3        4    Diana   28    diana@example.com  San Francisco\n",
      "4        5  Gowtham   25  gowtham@example.com     Coimbatore\n",
      "5        6   Sowmya   25   sowmya@example.com       Pollachi\n"
     ]
    }
   ],
   "source": [
    "import pandas as pd\n",
    "\n",
    "# Query the database and load data into a Pandas DataFrame\n",
    "query = \"SELECT * FROM users\"\n",
    "df = pd.read_sql_query(query, conn)\n",
    "\n",
    "# Display the DataFrame\n",
    "print(df)\n",
    "\n",
    "# Close the database connection\n",
    "conn.close()"
   ]
  },
  {
   "cell_type": "code",
   "execution_count": 30,
   "metadata": {},
   "outputs": [
    {
     "name": "stdout",
     "output_type": "stream",
     "text": [
      "Data successfully written to Google Sheet!\n"
     ]
    }
   ],
   "source": [
    "wks.set_dataframe(df, (1, 1))  # Start from cell A1\n",
    "print(\"Data successfully written to Google Sheet!\")"
   ]
  },
  {
   "cell_type": "code",
   "execution_count": null,
   "metadata": {},
   "outputs": [],
   "source": []
  }
 ],
 "metadata": {
  "kernelspec": {
   "display_name": "Python 3",
   "language": "python",
   "name": "python3"
  },
  "language_info": {
   "codemirror_mode": {
    "name": "ipython",
    "version": 3
   },
   "file_extension": ".py",
   "mimetype": "text/x-python",
   "name": "python",
   "nbconvert_exporter": "python",
   "pygments_lexer": "ipython3",
   "version": "3.8.10"
  }
 },
 "nbformat": 4,
 "nbformat_minor": 2
}
